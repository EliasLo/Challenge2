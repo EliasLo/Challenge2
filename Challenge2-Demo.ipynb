{
 "cells": [
  {
   "cell_type": "markdown",
   "metadata": {
    "id": "CfLr-GymQzoL"
   },
   "source": [
    "# Challenge 2"
   ]
  },
  {
   "cell_type": "code",
   "execution_count": 1,
   "metadata": {
    "colab": {
     "base_uri": "https://localhost:8080/"
    },
    "id": "Ig1FSyn-x9nP",
    "outputId": "b47d3382-0d95-4f78-f5b9-93325b9a417f"
   },
   "outputs": [
    {
     "name": "stdout",
     "output_type": "stream",
     "text": [
      "GPU used\n"
     ]
    }
   ],
   "source": [
    "import torch\n",
    "if torch.cuda.is_available():\n",
    "  print(\"GPU used\")\n",
    "else:\n",
    "  print(\"CPU used, slower execution\")\n",
    "  print(\"Try to get a GPU runtime for faster progress\")"
   ]
  },
  {
   "cell_type": "code",
   "execution_count": 2,
   "metadata": {
    "colab": {
     "base_uri": "https://localhost:8080/"
    },
    "id": "28ie2wNDN7E1",
    "outputId": "e1dc1b14-8349-4d61-a607-c0549d8bc68e"
   },
   "outputs": [
    {
     "name": "stderr",
     "output_type": "stream",
     "text": [
      "Der Befehl \"pwd\" ist entweder falsch geschrieben oder\n",
      "konnte nicht gefunden werden.\n",
      "Der Befehl \"ls\" ist entweder falsch geschrieben oder\n",
      "konnte nicht gefunden werden.\n"
     ]
    }
   ],
   "source": [
    "!pwd\n",
    "!ls"
   ]
  },
  {
   "cell_type": "code",
   "execution_count": 3,
   "metadata": {
    "colab": {
     "base_uri": "https://localhost:8080/"
    },
    "id": "sdQpvU25LiMV",
    "outputId": "bca52f51-660a-4c7e-9e8b-7333af1aead6"
   },
   "outputs": [
    {
     "name": "stderr",
     "output_type": "stream",
     "text": [
      "Der Befehl \"pwd\" ist entweder falsch geschrieben oder\n",
      "konnte nicht gefunden werden.\n",
      "Der Befehl \"ls\" ist entweder falsch geschrieben oder\n",
      "konnte nicht gefunden werden.\n"
     ]
    }
   ],
   "source": [
    "remove_project = False\n",
    "if remove_project:\n",
    "  # go to default directory - for Colab /content\n",
    "  %cd /content\n",
    "\n",
    "  !rm -rf Challenge2\n",
    "!pwd\n",
    "!ls"
   ]
  },
  {
   "cell_type": "code",
   "execution_count": 4,
   "metadata": {
    "colab": {
     "base_uri": "https://localhost:8080/"
    },
    "id": "eyHcynzIyUXs",
    "outputId": "dd1f4999-f7a3-43fa-8143-a81f72fc187e"
   },
   "outputs": [
    {
     "name": "stderr",
     "output_type": "stream",
     "text": [
      "Cloning into 'Challenge2'...\n"
     ]
    }
   ],
   "source": [
    "!git clone https://github.com/Ma0256/Challenge2.git"
   ]
  },
  {
   "cell_type": "code",
   "execution_count": 5,
   "metadata": {
    "colab": {
     "base_uri": "https://localhost:8080/"
    },
    "id": "yQcoM8Wt0aHL",
    "outputId": "ab04085e-5c4c-4fd8-86f9-ac0fdfca19fa"
   },
   "outputs": [
    {
     "name": "stdout",
     "output_type": "stream",
     "text": [
      "C:\\Users\\ma0256\\Sandbox\\Challenge2\n"
     ]
    },
    {
     "name": "stderr",
     "output_type": "stream",
     "text": [
      "Der Befehl \"ls\" ist entweder falsch geschrieben oder\n",
      "konnte nicht gefunden werden.\n"
     ]
    }
   ],
   "source": [
    "%cd Challenge2\n",
    "!ls"
   ]
  },
  {
   "cell_type": "code",
   "execution_count": 7,
   "metadata": {
    "id": "RHw8ObojH3MW"
   },
   "outputs": [],
   "source": [
    "# installing all reqs can take a long time. First try to run with default package installation.\n",
    "#!pip install -r requirements.txt"
   ]
  },
  {
   "cell_type": "markdown",
   "metadata": {
    "id": "s3zHS5Gf8u3Z"
   },
   "source": [
    "## Download Dataset"
   ]
  },
  {
   "cell_type": "code",
   "execution_count": 8,
   "metadata": {
    "colab": {
     "base_uri": "https://localhost:8080/"
    },
    "id": "5wCGFUo-9Zbg",
    "outputId": "56b20300-7ea8-4cca-9f80-c7d2a75a548a"
   },
   "outputs": [
    {
     "name": "stderr",
     "output_type": "stream",
     "text": [
      "data/esc50/master.zip: 616MiB [00:40, 16.1MiB/s]\n"
     ]
    }
   ],
   "source": [
    "from dataset.dataset_ESC50 import ESC50\n",
    "import config\n",
    "\n",
    "testset = ESC50(subset=\"test\", root=config.esc50_path, download=True)"
   ]
  },
  {
   "cell_type": "markdown",
   "metadata": {
    "id": "f6H7TJqdJqz_"
   },
   "source": [
    "This dataset contains 2000 audio files and is pre-organized in 5 equal sized folds of 400 files. The predictive performance is measured via average accuracy of 5-fold cross validation."
   ]
  },
  {
   "cell_type": "markdown",
   "metadata": {
    "id": "k-H4QmgwGpNp"
   },
   "source": [
    "What is the expected accuracy for random guessing? Check the number of classes."
   ]
  },
  {
   "cell_type": "code",
   "execution_count": 10,
   "metadata": {
    "colab": {
     "base_uri": "https://localhost:8080/"
    },
    "id": "QBdkry58Gepg",
    "outputId": "e800eb97-8756-4979-dbd3-bc1face7c332"
   },
   "outputs": [
    {
     "data": {
      "text/plain": [
       "50"
      ]
     },
     "execution_count": 10,
     "metadata": {},
     "output_type": "execute_result"
    }
   ],
   "source": [
    "config.n_classes"
   ]
  },
  {
   "cell_type": "markdown",
   "metadata": {
    "id": "x3uXrmhw-tIF"
   },
   "source": [
    "## Evaluate Cross Validation\n",
    "This will test all 5 cross validation folds with training results of a sample-run - every fold with the respective model. First the sample-run (incl. the models) is downloaded. Then the model is loaded with the sample-run parameters and tested on the fold, for all 5 folds."
   ]
  },
  {
   "cell_type": "code",
   "execution_count": 11,
   "metadata": {
    "colab": {
     "base_uri": "https://localhost:8080/"
    },
    "id": "E7EoxObA0bui",
    "outputId": "83f2e4dc-ace7-429b-838b-46c083e2a574"
   },
   "outputs": [
    {
     "name": "stdout",
     "output_type": "stream",
     "text": [
      "download model params\n",
      "results/sample-run.zip: 100% 197M/197M [00:23<00:00, 8.82MiB/s]\n",
      "*****\n",
      "ResNet(block=ResidualBlock, layers=[2, 2, 2, 2], num_classes=config.n_classes)\n",
      "*****\n",
      "\n",
      "test results/sample-run/1/terminal.pt\n",
      "100% 13/13 [00:58<00:00,  4.52s/bat]\n",
      "TestAcc    0.685\n",
      "TestLoss   1.155\n",
      "dtype: float64\n",
      "\n",
      "test results/sample-run/2/terminal.pt\n",
      "100% 13/13 [00:45<00:00,  3.54s/bat]\n",
      "TestAcc    0.665\n",
      "TestLoss   1.173\n",
      "dtype: float64\n",
      "\n",
      "test results/sample-run/3/terminal.pt\n",
      "100% 13/13 [00:46<00:00,  3.57s/bat]\n",
      "TestAcc    0.688\n",
      "TestLoss   1.166\n",
      "dtype: float64\n",
      "\n",
      "test results/sample-run/4/terminal.pt\n",
      "100% 13/13 [00:45<00:00,  3.51s/bat]\n",
      "TestAcc    0.790\n",
      "TestLoss   0.814\n",
      "dtype: float64\n",
      "\n",
      "test results/sample-run/5/terminal.pt\n",
      "100% 13/13 [00:47<00:00,  3.65s/bat]\n",
      "TestAcc    0.688\n",
      "TestLoss   1.169\n",
      "dtype: float64\n",
      "     terminal.pt         \n",
      "         TestAcc TestLoss\n",
      "1          0.685    1.155\n",
      "2          0.665    1.173\n",
      "3          0.688    1.166\n",
      "4          0.790    0.814\n",
      "5          0.688    1.169\n",
      "mean       0.703    1.095\n",
      "std        0.050    0.157\n",
      "\n"
     ]
    }
   ],
   "source": [
    "import pandas as pd\n",
    "!python test_crossval.py"
   ]
  },
  {
   "cell_type": "markdown",
   "metadata": {
    "id": "0a1f4lGyBLPe"
   },
   "source": [
    "The mean CV accuracy should be TestAcc=0.703. This is quite good, given a random baseline of 0.02 / 2%.\n",
    "\n",
    "The sample-run directory now contains two CSV files, one with test scores and another with predictions."
   ]
  },
  {
   "cell_type": "code",
   "execution_count": 31,
   "metadata": {
    "colab": {
     "base_uri": "https://localhost:8080/"
    },
    "id": "2WvbhpAV8Dgl",
    "outputId": "18b42905-bc12-4c5a-cebe-059a742fac0d"
   },
   "outputs": [
    {
     "name": "stdout",
     "output_type": "stream",
     "text": [
      "1  2  3  4  5  test_probs_terminal.csv\ttest_scores_terminal.csv\n"
     ]
    }
   ],
   "source": [
    "!ls results/sample-run/"
   ]
  },
  {
   "cell_type": "markdown",
   "metadata": {
    "id": "SH0IMqplEIYm"
   },
   "source": [
    "Let's check the scores."
   ]
  },
  {
   "cell_type": "code",
   "execution_count": 47,
   "metadata": {
    "colab": {
     "base_uri": "https://localhost:8080/",
     "height": 269
    },
    "id": "4LioTO4TCkrc",
    "outputId": "1ec6e3dc-7bb6-48d7-c708-a2f2ae0ece13"
   },
   "outputs": [
    {
     "data": {
      "application/vnd.google.colaboratory.intrinsic+json": {
       "summary": "{\n  \"name\": \"pd\",\n  \"rows\": 7,\n  \"fields\": [\n    {\n      \"column\": \"TestAcc\",\n      \"properties\": {\n        \"dtype\": \"number\",\n        \"std\": 0.2502745824381748,\n        \"min\": 0.0495416491449366,\n        \"max\": 0.79,\n        \"num_unique_values\": 6,\n        \"samples\": [\n          0.685,\n          0.665,\n          0.0495416491449366\n        ],\n        \"semantic_type\": \"\",\n        \"description\": \"\"\n      }\n    },\n    {\n      \"column\": \"TestLoss\",\n      \"properties\": {\n        \"dtype\": \"number\",\n        \"std\": 0.37709772496316607,\n        \"min\": 0.15736815252546,\n        \"max\": 1.1726677417755127,\n        \"num_unique_values\": 7,\n        \"samples\": [\n          1.1549112109037547,\n          1.1726677417755127,\n          1.09537140085147\n        ],\n        \"semantic_type\": \"\",\n        \"description\": \"\"\n      }\n    }\n  ]\n}",
       "type": "dataframe"
      },
      "text/html": [
       "\n",
       "  <div id=\"df-a656d4de-b2c5-417d-8ead-00c3a2ce1505\" class=\"colab-df-container\">\n",
       "    <div>\n",
       "<style scoped>\n",
       "    .dataframe tbody tr th:only-of-type {\n",
       "        vertical-align: middle;\n",
       "    }\n",
       "\n",
       "    .dataframe tbody tr th {\n",
       "        vertical-align: top;\n",
       "    }\n",
       "\n",
       "    .dataframe thead th {\n",
       "        text-align: right;\n",
       "    }\n",
       "</style>\n",
       "<table border=\"1\" class=\"dataframe\">\n",
       "  <thead>\n",
       "    <tr style=\"text-align: right;\">\n",
       "      <th></th>\n",
       "      <th>TestAcc</th>\n",
       "      <th>TestLoss</th>\n",
       "    </tr>\n",
       "  </thead>\n",
       "  <tbody>\n",
       "    <tr>\n",
       "      <th>1</th>\n",
       "      <td>0.685000</td>\n",
       "      <td>1.154911</td>\n",
       "    </tr>\n",
       "    <tr>\n",
       "      <th>2</th>\n",
       "      <td>0.665000</td>\n",
       "      <td>1.172668</td>\n",
       "    </tr>\n",
       "    <tr>\n",
       "      <th>3</th>\n",
       "      <td>0.687500</td>\n",
       "      <td>1.166192</td>\n",
       "    </tr>\n",
       "    <tr>\n",
       "      <th>4</th>\n",
       "      <td>0.790000</td>\n",
       "      <td>0.814113</td>\n",
       "    </tr>\n",
       "    <tr>\n",
       "      <th>5</th>\n",
       "      <td>0.687500</td>\n",
       "      <td>1.168974</td>\n",
       "    </tr>\n",
       "    <tr>\n",
       "      <th>mean</th>\n",
       "      <td>0.703000</td>\n",
       "      <td>1.095371</td>\n",
       "    </tr>\n",
       "    <tr>\n",
       "      <th>std</th>\n",
       "      <td>0.049542</td>\n",
       "      <td>0.157368</td>\n",
       "    </tr>\n",
       "  </tbody>\n",
       "</table>\n",
       "</div>\n",
       "    <div class=\"colab-df-buttons\">\n",
       "\n",
       "  <div class=\"colab-df-container\">\n",
       "    <button class=\"colab-df-convert\" onclick=\"convertToInteractive('df-a656d4de-b2c5-417d-8ead-00c3a2ce1505')\"\n",
       "            title=\"Convert this dataframe to an interactive table.\"\n",
       "            style=\"display:none;\">\n",
       "\n",
       "  <svg xmlns=\"http://www.w3.org/2000/svg\" height=\"24px\" viewBox=\"0 -960 960 960\">\n",
       "    <path d=\"M120-120v-720h720v720H120Zm60-500h600v-160H180v160Zm220 220h160v-160H400v160Zm0 220h160v-160H400v160ZM180-400h160v-160H180v160Zm440 0h160v-160H620v160ZM180-180h160v-160H180v160Zm440 0h160v-160H620v160Z\"/>\n",
       "  </svg>\n",
       "    </button>\n",
       "\n",
       "  <style>\n",
       "    .colab-df-container {\n",
       "      display:flex;\n",
       "      gap: 12px;\n",
       "    }\n",
       "\n",
       "    .colab-df-convert {\n",
       "      background-color: #E8F0FE;\n",
       "      border: none;\n",
       "      border-radius: 50%;\n",
       "      cursor: pointer;\n",
       "      display: none;\n",
       "      fill: #1967D2;\n",
       "      height: 32px;\n",
       "      padding: 0 0 0 0;\n",
       "      width: 32px;\n",
       "    }\n",
       "\n",
       "    .colab-df-convert:hover {\n",
       "      background-color: #E2EBFA;\n",
       "      box-shadow: 0px 1px 2px rgba(60, 64, 67, 0.3), 0px 1px 3px 1px rgba(60, 64, 67, 0.15);\n",
       "      fill: #174EA6;\n",
       "    }\n",
       "\n",
       "    .colab-df-buttons div {\n",
       "      margin-bottom: 4px;\n",
       "    }\n",
       "\n",
       "    [theme=dark] .colab-df-convert {\n",
       "      background-color: #3B4455;\n",
       "      fill: #D2E3FC;\n",
       "    }\n",
       "\n",
       "    [theme=dark] .colab-df-convert:hover {\n",
       "      background-color: #434B5C;\n",
       "      box-shadow: 0px 1px 3px 1px rgba(0, 0, 0, 0.15);\n",
       "      filter: drop-shadow(0px 1px 2px rgba(0, 0, 0, 0.3));\n",
       "      fill: #FFFFFF;\n",
       "    }\n",
       "  </style>\n",
       "\n",
       "    <script>\n",
       "      const buttonEl =\n",
       "        document.querySelector('#df-a656d4de-b2c5-417d-8ead-00c3a2ce1505 button.colab-df-convert');\n",
       "      buttonEl.style.display =\n",
       "        google.colab.kernel.accessAllowed ? 'block' : 'none';\n",
       "\n",
       "      async function convertToInteractive(key) {\n",
       "        const element = document.querySelector('#df-a656d4de-b2c5-417d-8ead-00c3a2ce1505');\n",
       "        const dataTable =\n",
       "          await google.colab.kernel.invokeFunction('convertToInteractive',\n",
       "                                                    [key], {});\n",
       "        if (!dataTable) return;\n",
       "\n",
       "        const docLinkHtml = 'Like what you see? Visit the ' +\n",
       "          '<a target=\"_blank\" href=https://colab.research.google.com/notebooks/data_table.ipynb>data table notebook</a>'\n",
       "          + ' to learn more about interactive tables.';\n",
       "        element.innerHTML = '';\n",
       "        dataTable['output_type'] = 'display_data';\n",
       "        await google.colab.output.renderOutput(dataTable, element);\n",
       "        const docLink = document.createElement('div');\n",
       "        docLink.innerHTML = docLinkHtml;\n",
       "        element.appendChild(docLink);\n",
       "      }\n",
       "    </script>\n",
       "  </div>\n",
       "\n",
       "\n",
       "<div id=\"df-a83d3fdc-a592-4367-8d75-88cb65b7925f\">\n",
       "  <button class=\"colab-df-quickchart\" onclick=\"quickchart('df-a83d3fdc-a592-4367-8d75-88cb65b7925f')\"\n",
       "            title=\"Suggest charts\"\n",
       "            style=\"display:none;\">\n",
       "\n",
       "<svg xmlns=\"http://www.w3.org/2000/svg\" height=\"24px\"viewBox=\"0 0 24 24\"\n",
       "     width=\"24px\">\n",
       "    <g>\n",
       "        <path d=\"M19 3H5c-1.1 0-2 .9-2 2v14c0 1.1.9 2 2 2h14c1.1 0 2-.9 2-2V5c0-1.1-.9-2-2-2zM9 17H7v-7h2v7zm4 0h-2V7h2v10zm4 0h-2v-4h2v4z\"/>\n",
       "    </g>\n",
       "</svg>\n",
       "  </button>\n",
       "\n",
       "<style>\n",
       "  .colab-df-quickchart {\n",
       "      --bg-color: #E8F0FE;\n",
       "      --fill-color: #1967D2;\n",
       "      --hover-bg-color: #E2EBFA;\n",
       "      --hover-fill-color: #174EA6;\n",
       "      --disabled-fill-color: #AAA;\n",
       "      --disabled-bg-color: #DDD;\n",
       "  }\n",
       "\n",
       "  [theme=dark] .colab-df-quickchart {\n",
       "      --bg-color: #3B4455;\n",
       "      --fill-color: #D2E3FC;\n",
       "      --hover-bg-color: #434B5C;\n",
       "      --hover-fill-color: #FFFFFF;\n",
       "      --disabled-bg-color: #3B4455;\n",
       "      --disabled-fill-color: #666;\n",
       "  }\n",
       "\n",
       "  .colab-df-quickchart {\n",
       "    background-color: var(--bg-color);\n",
       "    border: none;\n",
       "    border-radius: 50%;\n",
       "    cursor: pointer;\n",
       "    display: none;\n",
       "    fill: var(--fill-color);\n",
       "    height: 32px;\n",
       "    padding: 0;\n",
       "    width: 32px;\n",
       "  }\n",
       "\n",
       "  .colab-df-quickchart:hover {\n",
       "    background-color: var(--hover-bg-color);\n",
       "    box-shadow: 0 1px 2px rgba(60, 64, 67, 0.3), 0 1px 3px 1px rgba(60, 64, 67, 0.15);\n",
       "    fill: var(--button-hover-fill-color);\n",
       "  }\n",
       "\n",
       "  .colab-df-quickchart-complete:disabled,\n",
       "  .colab-df-quickchart-complete:disabled:hover {\n",
       "    background-color: var(--disabled-bg-color);\n",
       "    fill: var(--disabled-fill-color);\n",
       "    box-shadow: none;\n",
       "  }\n",
       "\n",
       "  .colab-df-spinner {\n",
       "    border: 2px solid var(--fill-color);\n",
       "    border-color: transparent;\n",
       "    border-bottom-color: var(--fill-color);\n",
       "    animation:\n",
       "      spin 1s steps(1) infinite;\n",
       "  }\n",
       "\n",
       "  @keyframes spin {\n",
       "    0% {\n",
       "      border-color: transparent;\n",
       "      border-bottom-color: var(--fill-color);\n",
       "      border-left-color: var(--fill-color);\n",
       "    }\n",
       "    20% {\n",
       "      border-color: transparent;\n",
       "      border-left-color: var(--fill-color);\n",
       "      border-top-color: var(--fill-color);\n",
       "    }\n",
       "    30% {\n",
       "      border-color: transparent;\n",
       "      border-left-color: var(--fill-color);\n",
       "      border-top-color: var(--fill-color);\n",
       "      border-right-color: var(--fill-color);\n",
       "    }\n",
       "    40% {\n",
       "      border-color: transparent;\n",
       "      border-right-color: var(--fill-color);\n",
       "      border-top-color: var(--fill-color);\n",
       "    }\n",
       "    60% {\n",
       "      border-color: transparent;\n",
       "      border-right-color: var(--fill-color);\n",
       "    }\n",
       "    80% {\n",
       "      border-color: transparent;\n",
       "      border-right-color: var(--fill-color);\n",
       "      border-bottom-color: var(--fill-color);\n",
       "    }\n",
       "    90% {\n",
       "      border-color: transparent;\n",
       "      border-bottom-color: var(--fill-color);\n",
       "    }\n",
       "  }\n",
       "</style>\n",
       "\n",
       "  <script>\n",
       "    async function quickchart(key) {\n",
       "      const quickchartButtonEl =\n",
       "        document.querySelector('#' + key + ' button');\n",
       "      quickchartButtonEl.disabled = true;  // To prevent multiple clicks.\n",
       "      quickchartButtonEl.classList.add('colab-df-spinner');\n",
       "      try {\n",
       "        const charts = await google.colab.kernel.invokeFunction(\n",
       "            'suggestCharts', [key], {});\n",
       "      } catch (error) {\n",
       "        console.error('Error during call to suggestCharts:', error);\n",
       "      }\n",
       "      quickchartButtonEl.classList.remove('colab-df-spinner');\n",
       "      quickchartButtonEl.classList.add('colab-df-quickchart-complete');\n",
       "    }\n",
       "    (() => {\n",
       "      let quickchartButtonEl =\n",
       "        document.querySelector('#df-a83d3fdc-a592-4367-8d75-88cb65b7925f button');\n",
       "      quickchartButtonEl.style.display =\n",
       "        google.colab.kernel.accessAllowed ? 'block' : 'none';\n",
       "    })();\n",
       "  </script>\n",
       "</div>\n",
       "    </div>\n",
       "  </div>\n"
      ],
      "text/plain": [
       "       TestAcc  TestLoss\n",
       "1     0.685000  1.154911\n",
       "2     0.665000  1.172668\n",
       "3     0.687500  1.166192\n",
       "4     0.790000  0.814113\n",
       "5     0.687500  1.168974\n",
       "mean  0.703000  1.095371\n",
       "std   0.049542  0.157368"
      ]
     },
     "execution_count": 47,
     "metadata": {},
     "output_type": "execute_result"
    }
   ],
   "source": [
    "pd.read_csv('results/sample-run/test_scores_terminal.csv', index_col=0)"
   ]
  },
  {
   "cell_type": "markdown",
   "metadata": {
    "id": "_NcYG0KWEjEw"
   },
   "source": [
    "The predictions file is for submission. For every tested WAV file it contains the model predictions for the 50 classes."
   ]
  },
  {
   "cell_type": "code",
   "execution_count": 49,
   "metadata": {
    "colab": {
     "base_uri": "https://localhost:8080/",
     "height": 478
    },
    "id": "ncbDlAUtEVRg",
    "outputId": "fcdade0d-dc1c-4b20-94a4-1e62d976277f"
   },
   "outputs": [
    {
     "data": {
      "application/vnd.google.colaboratory.intrinsic+json": {
       "type": "dataframe"
      },
      "text/html": [
       "\n",
       "  <div id=\"df-4bff18e1-f82a-49c9-be8f-4ec7a03d096a\" class=\"colab-df-container\">\n",
       "    <div>\n",
       "<style scoped>\n",
       "    .dataframe tbody tr th:only-of-type {\n",
       "        vertical-align: middle;\n",
       "    }\n",
       "\n",
       "    .dataframe tbody tr th {\n",
       "        vertical-align: top;\n",
       "    }\n",
       "\n",
       "    .dataframe thead th {\n",
       "        text-align: right;\n",
       "    }\n",
       "</style>\n",
       "<table border=\"1\" class=\"dataframe\">\n",
       "  <thead>\n",
       "    <tr style=\"text-align: right;\">\n",
       "      <th></th>\n",
       "      <th>0</th>\n",
       "      <th>1</th>\n",
       "      <th>2</th>\n",
       "      <th>3</th>\n",
       "      <th>4</th>\n",
       "      <th>5</th>\n",
       "      <th>6</th>\n",
       "      <th>7</th>\n",
       "      <th>8</th>\n",
       "      <th>9</th>\n",
       "      <th>...</th>\n",
       "      <th>40</th>\n",
       "      <th>41</th>\n",
       "      <th>42</th>\n",
       "      <th>43</th>\n",
       "      <th>44</th>\n",
       "      <th>45</th>\n",
       "      <th>46</th>\n",
       "      <th>47</th>\n",
       "      <th>48</th>\n",
       "      <th>49</th>\n",
       "    </tr>\n",
       "  </thead>\n",
       "  <tbody>\n",
       "    <tr>\n",
       "      <th>1-100032-A-0.wav</th>\n",
       "      <td>4.425216</td>\n",
       "      <td>2.618636</td>\n",
       "      <td>1.091619</td>\n",
       "      <td>0.937591</td>\n",
       "      <td>-1.214858</td>\n",
       "      <td>0.475062</td>\n",
       "      <td>-1.795039</td>\n",
       "      <td>-1.223864</td>\n",
       "      <td>-0.957428</td>\n",
       "      <td>2.538039</td>\n",
       "      <td>...</td>\n",
       "      <td>1.118637</td>\n",
       "      <td>-1.829709</td>\n",
       "      <td>-1.933142</td>\n",
       "      <td>0.755511</td>\n",
       "      <td>-0.964274</td>\n",
       "      <td>-1.923269</td>\n",
       "      <td>-2.302734</td>\n",
       "      <td>-1.352861</td>\n",
       "      <td>-0.435046</td>\n",
       "      <td>-1.488122</td>\n",
       "    </tr>\n",
       "    <tr>\n",
       "      <th>1-100038-A-14.wav</th>\n",
       "      <td>-1.364774</td>\n",
       "      <td>-1.451071</td>\n",
       "      <td>0.235597</td>\n",
       "      <td>1.069462</td>\n",
       "      <td>1.050353</td>\n",
       "      <td>-1.875610</td>\n",
       "      <td>-3.121527</td>\n",
       "      <td>-0.687590</td>\n",
       "      <td>1.195842</td>\n",
       "      <td>3.208323</td>\n",
       "      <td>...</td>\n",
       "      <td>1.302160</td>\n",
       "      <td>2.325430</td>\n",
       "      <td>-1.037800</td>\n",
       "      <td>3.077839</td>\n",
       "      <td>-1.053247</td>\n",
       "      <td>0.803705</td>\n",
       "      <td>-0.291807</td>\n",
       "      <td>0.505203</td>\n",
       "      <td>0.014139</td>\n",
       "      <td>1.233194</td>\n",
       "    </tr>\n",
       "    <tr>\n",
       "      <th>1-100210-A-36.wav</th>\n",
       "      <td>-2.595013</td>\n",
       "      <td>0.955836</td>\n",
       "      <td>0.729774</td>\n",
       "      <td>-0.285057</td>\n",
       "      <td>-0.706471</td>\n",
       "      <td>-0.265884</td>\n",
       "      <td>-2.161351</td>\n",
       "      <td>-1.215864</td>\n",
       "      <td>1.662850</td>\n",
       "      <td>4.394828</td>\n",
       "      <td>...</td>\n",
       "      <td>1.259001</td>\n",
       "      <td>3.635612</td>\n",
       "      <td>0.831326</td>\n",
       "      <td>2.440547</td>\n",
       "      <td>0.870062</td>\n",
       "      <td>-0.725592</td>\n",
       "      <td>-0.766259</td>\n",
       "      <td>-0.436426</td>\n",
       "      <td>-1.259930</td>\n",
       "      <td>-1.493075</td>\n",
       "    </tr>\n",
       "    <tr>\n",
       "      <th>1-100210-B-36.wav</th>\n",
       "      <td>-3.005787</td>\n",
       "      <td>1.575030</td>\n",
       "      <td>0.815861</td>\n",
       "      <td>-0.552081</td>\n",
       "      <td>-1.507387</td>\n",
       "      <td>0.194218</td>\n",
       "      <td>-2.077039</td>\n",
       "      <td>-0.658207</td>\n",
       "      <td>1.641086</td>\n",
       "      <td>2.470541</td>\n",
       "      <td>...</td>\n",
       "      <td>0.705501</td>\n",
       "      <td>3.461071</td>\n",
       "      <td>1.730435</td>\n",
       "      <td>2.282524</td>\n",
       "      <td>0.890644</td>\n",
       "      <td>-0.626794</td>\n",
       "      <td>-0.259676</td>\n",
       "      <td>-0.952827</td>\n",
       "      <td>-1.399003</td>\n",
       "      <td>-1.195466</td>\n",
       "    </tr>\n",
       "    <tr>\n",
       "      <th>1-101296-A-19.wav</th>\n",
       "      <td>-1.446895</td>\n",
       "      <td>0.196831</td>\n",
       "      <td>-1.059902</td>\n",
       "      <td>2.147269</td>\n",
       "      <td>-2.860927</td>\n",
       "      <td>0.752272</td>\n",
       "      <td>-3.299027</td>\n",
       "      <td>1.993068</td>\n",
       "      <td>2.246752</td>\n",
       "      <td>-0.155412</td>\n",
       "      <td>...</td>\n",
       "      <td>3.810448</td>\n",
       "      <td>0.690591</td>\n",
       "      <td>0.213421</td>\n",
       "      <td>0.255530</td>\n",
       "      <td>-2.173933</td>\n",
       "      <td>4.546542</td>\n",
       "      <td>-0.306779</td>\n",
       "      <td>-0.257224</td>\n",
       "      <td>-1.720606</td>\n",
       "      <td>-3.032294</td>\n",
       "    </tr>\n",
       "  </tbody>\n",
       "</table>\n",
       "<p>5 rows × 50 columns</p>\n",
       "</div>\n",
       "    <div class=\"colab-df-buttons\">\n",
       "\n",
       "  <div class=\"colab-df-container\">\n",
       "    <button class=\"colab-df-convert\" onclick=\"convertToInteractive('df-4bff18e1-f82a-49c9-be8f-4ec7a03d096a')\"\n",
       "            title=\"Convert this dataframe to an interactive table.\"\n",
       "            style=\"display:none;\">\n",
       "\n",
       "  <svg xmlns=\"http://www.w3.org/2000/svg\" height=\"24px\" viewBox=\"0 -960 960 960\">\n",
       "    <path d=\"M120-120v-720h720v720H120Zm60-500h600v-160H180v160Zm220 220h160v-160H400v160Zm0 220h160v-160H400v160ZM180-400h160v-160H180v160Zm440 0h160v-160H620v160ZM180-180h160v-160H180v160Zm440 0h160v-160H620v160Z\"/>\n",
       "  </svg>\n",
       "    </button>\n",
       "\n",
       "  <style>\n",
       "    .colab-df-container {\n",
       "      display:flex;\n",
       "      gap: 12px;\n",
       "    }\n",
       "\n",
       "    .colab-df-convert {\n",
       "      background-color: #E8F0FE;\n",
       "      border: none;\n",
       "      border-radius: 50%;\n",
       "      cursor: pointer;\n",
       "      display: none;\n",
       "      fill: #1967D2;\n",
       "      height: 32px;\n",
       "      padding: 0 0 0 0;\n",
       "      width: 32px;\n",
       "    }\n",
       "\n",
       "    .colab-df-convert:hover {\n",
       "      background-color: #E2EBFA;\n",
       "      box-shadow: 0px 1px 2px rgba(60, 64, 67, 0.3), 0px 1px 3px 1px rgba(60, 64, 67, 0.15);\n",
       "      fill: #174EA6;\n",
       "    }\n",
       "\n",
       "    .colab-df-buttons div {\n",
       "      margin-bottom: 4px;\n",
       "    }\n",
       "\n",
       "    [theme=dark] .colab-df-convert {\n",
       "      background-color: #3B4455;\n",
       "      fill: #D2E3FC;\n",
       "    }\n",
       "\n",
       "    [theme=dark] .colab-df-convert:hover {\n",
       "      background-color: #434B5C;\n",
       "      box-shadow: 0px 1px 3px 1px rgba(0, 0, 0, 0.15);\n",
       "      filter: drop-shadow(0px 1px 2px rgba(0, 0, 0, 0.3));\n",
       "      fill: #FFFFFF;\n",
       "    }\n",
       "  </style>\n",
       "\n",
       "    <script>\n",
       "      const buttonEl =\n",
       "        document.querySelector('#df-4bff18e1-f82a-49c9-be8f-4ec7a03d096a button.colab-df-convert');\n",
       "      buttonEl.style.display =\n",
       "        google.colab.kernel.accessAllowed ? 'block' : 'none';\n",
       "\n",
       "      async function convertToInteractive(key) {\n",
       "        const element = document.querySelector('#df-4bff18e1-f82a-49c9-be8f-4ec7a03d096a');\n",
       "        const dataTable =\n",
       "          await google.colab.kernel.invokeFunction('convertToInteractive',\n",
       "                                                    [key], {});\n",
       "        if (!dataTable) return;\n",
       "\n",
       "        const docLinkHtml = 'Like what you see? Visit the ' +\n",
       "          '<a target=\"_blank\" href=https://colab.research.google.com/notebooks/data_table.ipynb>data table notebook</a>'\n",
       "          + ' to learn more about interactive tables.';\n",
       "        element.innerHTML = '';\n",
       "        dataTable['output_type'] = 'display_data';\n",
       "        await google.colab.output.renderOutput(dataTable, element);\n",
       "        const docLink = document.createElement('div');\n",
       "        docLink.innerHTML = docLinkHtml;\n",
       "        element.appendChild(docLink);\n",
       "      }\n",
       "    </script>\n",
       "  </div>\n",
       "\n",
       "\n",
       "<div id=\"df-ccf638cd-4002-461e-853e-3517fa56691a\">\n",
       "  <button class=\"colab-df-quickchart\" onclick=\"quickchart('df-ccf638cd-4002-461e-853e-3517fa56691a')\"\n",
       "            title=\"Suggest charts\"\n",
       "            style=\"display:none;\">\n",
       "\n",
       "<svg xmlns=\"http://www.w3.org/2000/svg\" height=\"24px\"viewBox=\"0 0 24 24\"\n",
       "     width=\"24px\">\n",
       "    <g>\n",
       "        <path d=\"M19 3H5c-1.1 0-2 .9-2 2v14c0 1.1.9 2 2 2h14c1.1 0 2-.9 2-2V5c0-1.1-.9-2-2-2zM9 17H7v-7h2v7zm4 0h-2V7h2v10zm4 0h-2v-4h2v4z\"/>\n",
       "    </g>\n",
       "</svg>\n",
       "  </button>\n",
       "\n",
       "<style>\n",
       "  .colab-df-quickchart {\n",
       "      --bg-color: #E8F0FE;\n",
       "      --fill-color: #1967D2;\n",
       "      --hover-bg-color: #E2EBFA;\n",
       "      --hover-fill-color: #174EA6;\n",
       "      --disabled-fill-color: #AAA;\n",
       "      --disabled-bg-color: #DDD;\n",
       "  }\n",
       "\n",
       "  [theme=dark] .colab-df-quickchart {\n",
       "      --bg-color: #3B4455;\n",
       "      --fill-color: #D2E3FC;\n",
       "      --hover-bg-color: #434B5C;\n",
       "      --hover-fill-color: #FFFFFF;\n",
       "      --disabled-bg-color: #3B4455;\n",
       "      --disabled-fill-color: #666;\n",
       "  }\n",
       "\n",
       "  .colab-df-quickchart {\n",
       "    background-color: var(--bg-color);\n",
       "    border: none;\n",
       "    border-radius: 50%;\n",
       "    cursor: pointer;\n",
       "    display: none;\n",
       "    fill: var(--fill-color);\n",
       "    height: 32px;\n",
       "    padding: 0;\n",
       "    width: 32px;\n",
       "  }\n",
       "\n",
       "  .colab-df-quickchart:hover {\n",
       "    background-color: var(--hover-bg-color);\n",
       "    box-shadow: 0 1px 2px rgba(60, 64, 67, 0.3), 0 1px 3px 1px rgba(60, 64, 67, 0.15);\n",
       "    fill: var(--button-hover-fill-color);\n",
       "  }\n",
       "\n",
       "  .colab-df-quickchart-complete:disabled,\n",
       "  .colab-df-quickchart-complete:disabled:hover {\n",
       "    background-color: var(--disabled-bg-color);\n",
       "    fill: var(--disabled-fill-color);\n",
       "    box-shadow: none;\n",
       "  }\n",
       "\n",
       "  .colab-df-spinner {\n",
       "    border: 2px solid var(--fill-color);\n",
       "    border-color: transparent;\n",
       "    border-bottom-color: var(--fill-color);\n",
       "    animation:\n",
       "      spin 1s steps(1) infinite;\n",
       "  }\n",
       "\n",
       "  @keyframes spin {\n",
       "    0% {\n",
       "      border-color: transparent;\n",
       "      border-bottom-color: var(--fill-color);\n",
       "      border-left-color: var(--fill-color);\n",
       "    }\n",
       "    20% {\n",
       "      border-color: transparent;\n",
       "      border-left-color: var(--fill-color);\n",
       "      border-top-color: var(--fill-color);\n",
       "    }\n",
       "    30% {\n",
       "      border-color: transparent;\n",
       "      border-left-color: var(--fill-color);\n",
       "      border-top-color: var(--fill-color);\n",
       "      border-right-color: var(--fill-color);\n",
       "    }\n",
       "    40% {\n",
       "      border-color: transparent;\n",
       "      border-right-color: var(--fill-color);\n",
       "      border-top-color: var(--fill-color);\n",
       "    }\n",
       "    60% {\n",
       "      border-color: transparent;\n",
       "      border-right-color: var(--fill-color);\n",
       "    }\n",
       "    80% {\n",
       "      border-color: transparent;\n",
       "      border-right-color: var(--fill-color);\n",
       "      border-bottom-color: var(--fill-color);\n",
       "    }\n",
       "    90% {\n",
       "      border-color: transparent;\n",
       "      border-bottom-color: var(--fill-color);\n",
       "    }\n",
       "  }\n",
       "</style>\n",
       "\n",
       "  <script>\n",
       "    async function quickchart(key) {\n",
       "      const quickchartButtonEl =\n",
       "        document.querySelector('#' + key + ' button');\n",
       "      quickchartButtonEl.disabled = true;  // To prevent multiple clicks.\n",
       "      quickchartButtonEl.classList.add('colab-df-spinner');\n",
       "      try {\n",
       "        const charts = await google.colab.kernel.invokeFunction(\n",
       "            'suggestCharts', [key], {});\n",
       "      } catch (error) {\n",
       "        console.error('Error during call to suggestCharts:', error);\n",
       "      }\n",
       "      quickchartButtonEl.classList.remove('colab-df-spinner');\n",
       "      quickchartButtonEl.classList.add('colab-df-quickchart-complete');\n",
       "    }\n",
       "    (() => {\n",
       "      let quickchartButtonEl =\n",
       "        document.querySelector('#df-ccf638cd-4002-461e-853e-3517fa56691a button');\n",
       "      quickchartButtonEl.style.display =\n",
       "        google.colab.kernel.accessAllowed ? 'block' : 'none';\n",
       "    })();\n",
       "  </script>\n",
       "</div>\n",
       "    </div>\n",
       "  </div>\n"
      ],
      "text/plain": [
       "                          0         1         2         3         4         5  \\\n",
       "1-100032-A-0.wav   4.425216  2.618636  1.091619  0.937591 -1.214858  0.475062   \n",
       "1-100038-A-14.wav -1.364774 -1.451071  0.235597  1.069462  1.050353 -1.875610   \n",
       "1-100210-A-36.wav -2.595013  0.955836  0.729774 -0.285057 -0.706471 -0.265884   \n",
       "1-100210-B-36.wav -3.005787  1.575030  0.815861 -0.552081 -1.507387  0.194218   \n",
       "1-101296-A-19.wav -1.446895  0.196831 -1.059902  2.147269 -2.860927  0.752272   \n",
       "\n",
       "                          6         7         8         9  ...        40  \\\n",
       "1-100032-A-0.wav  -1.795039 -1.223864 -0.957428  2.538039  ...  1.118637   \n",
       "1-100038-A-14.wav -3.121527 -0.687590  1.195842  3.208323  ...  1.302160   \n",
       "1-100210-A-36.wav -2.161351 -1.215864  1.662850  4.394828  ...  1.259001   \n",
       "1-100210-B-36.wav -2.077039 -0.658207  1.641086  2.470541  ...  0.705501   \n",
       "1-101296-A-19.wav -3.299027  1.993068  2.246752 -0.155412  ...  3.810448   \n",
       "\n",
       "                         41        42        43        44        45        46  \\\n",
       "1-100032-A-0.wav  -1.829709 -1.933142  0.755511 -0.964274 -1.923269 -2.302734   \n",
       "1-100038-A-14.wav  2.325430 -1.037800  3.077839 -1.053247  0.803705 -0.291807   \n",
       "1-100210-A-36.wav  3.635612  0.831326  2.440547  0.870062 -0.725592 -0.766259   \n",
       "1-100210-B-36.wav  3.461071  1.730435  2.282524  0.890644 -0.626794 -0.259676   \n",
       "1-101296-A-19.wav  0.690591  0.213421  0.255530 -2.173933  4.546542 -0.306779   \n",
       "\n",
       "                         47        48        49  \n",
       "1-100032-A-0.wav  -1.352861 -0.435046 -1.488122  \n",
       "1-100038-A-14.wav  0.505203  0.014139  1.233194  \n",
       "1-100210-A-36.wav -0.436426 -1.259930 -1.493075  \n",
       "1-100210-B-36.wav -0.952827 -1.399003 -1.195466  \n",
       "1-101296-A-19.wav -0.257224 -1.720606 -3.032294  \n",
       "\n",
       "[5 rows x 50 columns]"
      ]
     },
     "execution_count": 49,
     "metadata": {},
     "output_type": "execute_result"
    }
   ],
   "source": [
    "pd.read_csv('results/sample-run/test_probs_terminal.csv', index_col=0).head()"
   ]
  },
  {
   "cell_type": "markdown",
   "metadata": {
    "id": "35GjYEpJHZt5"
   },
   "source": [
    "Let's download the predictions file and submit it to the Challenge in Moodle."
   ]
  },
  {
   "cell_type": "markdown",
   "metadata": {
    "id": "0DWlu6PoH98D"
   },
   "source": [
    "## Train Cross Validation"
   ]
  },
  {
   "cell_type": "code",
   "execution_count": 53,
   "metadata": {
    "colab": {
     "base_uri": "https://localhost:8080/"
    },
    "id": "k3YvPnA6HjlJ",
    "outputId": "eed63b69-1a94-4832-f08d-d23a623bdb0b"
   },
   "outputs": [
    {
     "name": "stdout",
     "output_type": "stream",
     "text": [
      "*****\n",
      "train folds are {2, 3, 4, 5} and test fold is {1}\n",
      "random wave cropping\n",
      "\n",
      "ResNet(block=ResidualBlock, layers=[2, 2, 2, 2], num_classes=config.n_classes)\n",
      "*****\n",
      "\n",
      "  0% 0/40 [00:00<?, ?bat/s]/usr/lib/python3.10/multiprocessing/popen_fork.py:66: RuntimeWarning: os.fork() was called. os.fork() is incompatible with multithreaded code, and JAX is multithreaded, so this will likely lead to a deadlock.\n",
      "  self.pid = os.fork()\n",
      "100% 40/40 [00:36<00:00,  1.11bat/s]\n",
      "100% 10/10 [00:10<00:00,  1.09s/bat]\n",
      "  0%|           | 1/200 [00:46<2:35:35, 46.91s/ep] TrnAcc=0.095 ValAcc=0.144 TrnLoss=3.694 ValLoss=3.347 < inf --> checkpoint\n",
      " 60% 24/40 [00:20<00:13,  1.16bat/s]\n",
      "Traceback (most recent call last):\n",
      "  File \"/usr/local/lib/python3.10/dist-packages/torch/utils/data/dataloader.py\", line 631, in __next__\n",
      "    data = self._next_data()\n",
      "  File \"/usr/local/lib/python3.10/dist-packages/torch/utils/data/dataloader.py\", line 1329, in _next_data\n",
      "    idx, data = self._get_data()\n",
      "  File \"/usr/local/lib/python3.10/dist-packages/torch/utils/data/dataloader.py\", line 1285, in _get_data\n",
      "    success, data = self._try_get_data()\n",
      "  File \"/usr/local/lib/python3.10/dist-packages/torch/utils/data/dataloader.py\", line 1133, in _try_get_data\n",
      "    data = self._data_queue.get(timeout=timeout)\n",
      "  File \"/usr/lib/python3.10/queue.py\", line 180, in get\n",
      "    self.not_empty.wait(remaining)\n",
      "  File \"/usr/lib/python3.10/threading.py\", line 324, in wait\n",
      "    gotit = waiter.acquire(True, timeout)\n",
      "KeyboardInterrupt\n",
      "\n",
      "During handling of the above exception, another exception occurred:\n",
      "\n",
      "Traceback (most recent call last):\n",
      "  File \"/content/Challenge2/train_crossval.py\", line 199, in <module>\n",
      "    fit_classifier()\n",
      "  File \"/content/Challenge2/train_crossval.py\", line 90, in fit_classifier\n",
      "    train_acc, train_loss = train_epoch()\n",
      "  File \"/content/Challenge2/train_crossval.py\", line 56, in train_epoch\n",
      "    for _, x, label in tqdm(train_loader, unit='bat', disable=config.disable_bat_pbar, position=0):\n",
      "  File \"/usr/local/lib/python3.10/dist-packages/tqdm/std.py\", line 1181, in __iter__\n",
      "    for obj in iterable:\n",
      "  File \"/usr/local/lib/python3.10/dist-packages/torch/utils/data/dataloader.py\", line 627, in __next__\n",
      "    with torch.autograd.profiler.record_function(self._profile_name):\n",
      "  File \"/usr/local/lib/python3.10/dist-packages/torch/autograd/profiler.py\", line 622, in __exit__\n",
      "    torch.ops.profiler._record_function_exit._RecordFunction(record)\n",
      "  File \"/usr/local/lib/python3.10/dist-packages/torch/_ops.py\", line 513, in __call__\n",
      "    return self._op(*args, **(kwargs or {}))\n",
      "KeyboardInterrupt\n",
      "  0%|           | 1/200 [01:07<3:45:19, 67.94s/ep]\n"
     ]
    }
   ],
   "source": [
    "!python train_crossval.py"
   ]
  },
  {
   "cell_type": "code",
   "execution_count": null,
   "metadata": {
    "id": "10a0Qwi9Iaxn"
   },
   "outputs": [],
   "source": []
  }
 ],
 "metadata": {
  "accelerator": "TPU",
  "colab": {
   "provenance": []
  },
  "kernelspec": {
   "display_name": "Python [conda env:env_torch]",
   "language": "python",
   "name": "conda-env-env_torch-py"
  },
  "language_info": {
   "codemirror_mode": {
    "name": "ipython",
    "version": 3
   },
   "file_extension": ".py",
   "mimetype": "text/x-python",
   "name": "python",
   "nbconvert_exporter": "python",
   "pygments_lexer": "ipython3",
   "version": "3.11.0"
  }
 },
 "nbformat": 4,
 "nbformat_minor": 4
}
